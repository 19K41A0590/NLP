{
  "nbformat": 4,
  "nbformat_minor": 0,
  "metadata": {
    "colab": {
      "name": "Untitled11.ipynb",
      "provenance": [],
      "include_colab_link": true
    },
    "kernelspec": {
      "name": "python3",
      "display_name": "Python 3"
    },
    "language_info": {
      "name": "python"
    }
  },
  "cells": [
    {
      "cell_type": "markdown",
      "metadata": {
        "id": "view-in-github",
        "colab_type": "text"
      },
      "source": [
        "<a href=\"https://colab.research.google.com/github/19K41A0590/NLP/blob/main/NLP_Assignment%203%2C4%2C5.ipynb\" target=\"_parent\"><img src=\"https://colab.research.google.com/assets/colab-badge.svg\" alt=\"Open In Colab\"/></a>"
      ]
    },
    {
      "cell_type": "code",
      "source": [
        "import nltk\n",
        "import numpy as np\n",
        "nltk.download('wordnet')\n",
        "nltk.download('stopwords')\n",
        "from nltk.stem import PorterStemmer\n",
        "from nltk.stem import WordNetLemmatizer\n",
        "from nltk.corpus import stopwords\n",
        "from nltk.tokenize import word_tokenize\n",
        "from nltk.corpus import webtext\n",
        "from nltk import FreqDist"
      ],
      "metadata": {
        "colab": {
          "base_uri": "https://localhost:8080/"
        },
        "id": "wJtTPKw5Mbp-",
        "outputId": "280a3b7b-7e33-4880-fe17-42c0a0cefbdb"
      },
      "execution_count": 14,
      "outputs": [
        {
          "output_type": "stream",
          "name": "stderr",
          "text": [
            "[nltk_data] Downloading package wordnet to /root/nltk_data...\n",
            "[nltk_data]   Package wordnet is already up-to-date!\n",
            "[nltk_data] Downloading package stopwords to /root/nltk_data...\n",
            "[nltk_data]   Unzipping corpora/stopwords.zip.\n"
          ]
        }
      ]
    },
    {
      "cell_type": "markdown",
      "source": [
        "Q3:Find stem and lemma words for the given words? \"cats\" \"trouble\" \"troubling\" \"troubled\" “having” “Corriendo” “at” “was”\n"
      ],
      "metadata": {
        "id": "kJpOSQ-zM-_5"
      }
    },
    {
      "cell_type": "code",
      "source": [
        "st = PorterStemmer()\n",
        "lemma = WordNetLemmatizer()\n",
        "words = [\"cats\", \"trouble\", \"troubling\", \"troubled\", \"having\", \"Corriendo\", \"at\", \"was\"]\n",
        "print(\"{:<12}{:<12}{:<12}\".format(\"Word\",\"Stem Word\", \"Lemma Word\"))\n",
        "for word in words:\n",
        "    print(\"{:<12}{:<12}{:<12}\".format(word,st.stem(word),lemma.lemmatize(word)))"
      ],
      "metadata": {
        "colab": {
          "base_uri": "https://localhost:8080/"
        },
        "id": "n0Z1wjkTMc8C",
        "outputId": "f81fbd7b-493a-46ae-8233-b9a03ee3bb4e"
      },
      "execution_count": 16,
      "outputs": [
        {
          "output_type": "stream",
          "name": "stdout",
          "text": [
            "Word        Stem Word   Lemma Word  \n",
            "cats        cat         cat         \n",
            "trouble     troubl      trouble     \n",
            "troubling   troubl      troubling   \n",
            "troubled    troubl      troubled    \n",
            "having      have        having      \n",
            "Corriendo   corriendo   Corriendo   \n",
            "at          at          at          \n",
            "was         wa          wa          \n"
          ]
        }
      ]
    },
    {
      "cell_type": "markdown",
      "source": [
        "Q4:Find stop words and BOW from the given paragraph. “The NLTK library is one of the oldest and most commonly used Python libraries for Natural Language Processing. NLTK supports stop word removal, and you can find the list of stop words in the corpus module. To remove stop words from a sentence, you can divide your text into words and then remove the word if it exits in the list of stop words provided by NLTK.”"
      ],
      "metadata": {
        "id": "hGcSaH3QM5BU"
      }
    },
    {
      "cell_type": "code",
      "source": [
        "text = \"The NLTK library is one of the oldest and most commonly used Python libraries for Natural Language Processing. NLTK supports stop word removal, and you can find the list of stop words in the corpus module. To remove stop words from a sentence, you can divide your text into words and then remove the word if it exits in the list of stop words provided by NLTK.\"\n",
        "word_tokens = np.unique(word_tokenize(text))\n",
        "stop_words = [word for word in word_tokens if word in stopwords.words('english')]\n",
        "bag_words = [word for word in word_tokens if not word.lower() in stopwords.words('english')]\n",
        "print(\"Stop Words : \" , stop_words)\n",
        "print(\"Bag of Words : \" , bag_words)\n"
      ],
      "metadata": {
        "colab": {
          "base_uri": "https://localhost:8080/"
        },
        "id": "P1VShEDzMn62",
        "outputId": "56dd6761-24df-4c5d-c601-3a9b6315e9ae"
      },
      "execution_count": 17,
      "outputs": [
        {
          "output_type": "stream",
          "name": "stdout",
          "text": [
            "Stop Words :  ['a', 'and', 'by', 'can', 'for', 'from', 'if', 'in', 'into', 'is', 'it', 'most', 'of', 'the', 'then', 'you', 'your']\n",
            "Bag of Words :  [',', '.', 'Language', 'NLTK', 'Natural', 'Processing', 'Python', 'commonly', 'corpus', 'divide', 'exits', 'find', 'libraries', 'library', 'list', 'module', 'oldest', 'one', 'provided', 'removal', 'remove', 'sentence', 'stop', 'supports', 'text', 'used', 'word', 'words']\n"
          ]
        }
      ]
    },
    {
      "cell_type": "markdown",
      "source": [
        "Q5:From the above paragraph print frequency of each word using NLTK."
      ],
      "metadata": {
        "id": "IyPW5ubDMx-j"
      }
    },
    {
      "cell_type": "code",
      "source": [
        "freq = nltk.FreqDist(word_tokens)\n",
        "for key,value in freq.items():\n",
        "    print(\"{}: {}\".format(key, value))"
      ],
      "metadata": {
        "colab": {
          "base_uri": "https://localhost:8080/"
        },
        "id": "V6qgETlHMtzW",
        "outputId": "14838ee0-ddfb-4926-9343-020aa6503b56"
      },
      "execution_count": 18,
      "outputs": [
        {
          "output_type": "stream",
          "name": "stdout",
          "text": [
            ",: 1\n",
            ".: 1\n",
            "Language: 1\n",
            "NLTK: 1\n",
            "Natural: 1\n",
            "Processing: 1\n",
            "Python: 1\n",
            "The: 1\n",
            "To: 1\n",
            "a: 1\n",
            "and: 1\n",
            "by: 1\n",
            "can: 1\n",
            "commonly: 1\n",
            "corpus: 1\n",
            "divide: 1\n",
            "exits: 1\n",
            "find: 1\n",
            "for: 1\n",
            "from: 1\n",
            "if: 1\n",
            "in: 1\n",
            "into: 1\n",
            "is: 1\n",
            "it: 1\n",
            "libraries: 1\n",
            "library: 1\n",
            "list: 1\n",
            "module: 1\n",
            "most: 1\n",
            "of: 1\n",
            "oldest: 1\n",
            "one: 1\n",
            "provided: 1\n",
            "removal: 1\n",
            "remove: 1\n",
            "sentence: 1\n",
            "stop: 1\n",
            "supports: 1\n",
            "text: 1\n",
            "the: 1\n",
            "then: 1\n",
            "used: 1\n",
            "word: 1\n",
            "words: 1\n",
            "you: 1\n",
            "your: 1\n"
          ]
        }
      ]
    }
  ]
}